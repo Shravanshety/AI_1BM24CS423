{
 "cells": [
  {
   "cell_type": "code",
   "execution_count": 1,
   "id": "fd29738c-04ed-4bbe-8a34-e397baf0e427",
   "metadata": {},
   "outputs": [
    {
     "name": "stdout",
     "output_type": "stream",
     "text": [
      "Iter 0: Accepted better neighbor [1, 3, 2, 0] with cost 1, Temp 10.0000\n",
      "Iter 1: Accepted worse neighbor [3, 1, 2, 0] with cost 2, Prob 0.8825, Rand 0.7361, Temp 8.0000\n",
      "Iter 2: Accepted better neighbor [1, 3, 2, 0] with cost 1, Temp 6.4000\n",
      "Iter 3: Accepted worse neighbor [0, 3, 2, 1] with cost 4, Prob 0.5566, Rand 0.0525, Temp 5.1200\n",
      "Iter 4: Accepted better neighbor [3, 0, 2, 1] with cost 1, Temp 4.0960\n",
      "Iter 5: Accepted worse neighbor [0, 3, 2, 1] with cost 4, Prob 0.4003, Rand 0.3823, Temp 3.2768\n",
      "Iter 6: Accepted better neighbor [3, 0, 2, 1] with cost 1, Temp 2.6214\n",
      "Iter 7: Accepted better neighbor [2, 0, 3, 1] with cost 0, Temp 2.0972\n",
      "\n",
      "Final Solution: [2, 0, 3, 1] with Cost: 0\n"
     ]
    }
   ],
   "source": [
    "import math\n",
    "import random\n",
    "\n",
    "def heuristic(state):\n",
    "    n = len(state)\n",
    "    attacks = 0\n",
    "    for i in range(n):\n",
    "        for j in range(i + 1, n):\n",
    "            if state[i] == state[j]:\n",
    "                attacks += 1\n",
    "            if abs(state[i] - state[j]) == abs(i - j):\n",
    "                attacks += 1\n",
    "    return attacks\n",
    "\n",
    "def get_neighbors(state):\n",
    "    neighbors = []\n",
    "    n = len(state)\n",
    "    for i in range(n):\n",
    "        for j in range(i + 1, n):\n",
    "            neighbor = state.copy()\n",
    "            neighbor[i], neighbor[j] = neighbor[j], neighbor[i]\n",
    "            neighbors.append(neighbor)\n",
    "    return neighbors\n",
    "\n",
    "def simulated_annealing_deterministic(start_state, initial_temp=1000, cooling_rate=0.95, min_temp=1e-3, max_iter=10000):\n",
    "    current = start_state\n",
    "    current_cost = heuristic(current)\n",
    "    temperature = initial_temp\n",
    "    iteration = 0\n",
    "\n",
    "    while temperature > min_temp and current_cost > 0 and iteration < max_iter:\n",
    "        neighbors = get_neighbors(current)\n",
    "        accepted = False\n",
    "        \n",
    "        for neighbor in neighbors:\n",
    "            neighbor_cost = heuristic(neighbor)\n",
    "            delta_cost = neighbor_cost - current_cost\n",
    "\n",
    "            if delta_cost < 0:\n",
    "                # Better neighbor, accept immediately\n",
    "                current = neighbor\n",
    "                current_cost = neighbor_cost\n",
    "                accepted = True\n",
    "                print(f\"Iter {iteration}: Accepted better neighbor {current} with cost {current_cost}, Temp {temperature:.4f}\")\n",
    "                break\n",
    "            else:\n",
    "                # Worse neighbor, accept probabilistically\n",
    "                prob = math.exp(-delta_cost / temperature)\n",
    "                rand_val = random.random()\n",
    "                if rand_val < prob:\n",
    "                    current = neighbor\n",
    "                    current_cost = neighbor_cost\n",
    "                    accepted = True\n",
    "                    print(f\"Iter {iteration}: Accepted worse neighbor {current} with cost {current_cost}, Prob {prob:.4f}, Rand {rand_val:.4f}, Temp {temperature:.4f}\")\n",
    "                    break\n",
    "\n",
    "        if not accepted:\n",
    "            # No neighbor accepted, remain in current state\n",
    "            print(f\"Iter {iteration}: No neighbor accepted, staying at {current} with cost {current_cost}, Temp {temperature:.4f}\")\n",
    "\n",
    "        temperature *= cooling_rate\n",
    "        iteration += 1\n",
    "\n",
    "    return current, current_cost\n",
    "\n",
    "# Example usage:\n",
    "initial_state = [3, 1, 2, 0]\n",
    "solution, cost = simulated_annealing_deterministic(initial_state, initial_temp=10, cooling_rate=0.8, min_temp=0.1, max_iter=50)\n",
    "print(\"\\nFinal Solution:\", solution, \"with Cost:\", cost)\n"
   ]
  },
  {
   "cell_type": "code",
   "execution_count": null,
   "id": "9575c407-d1a7-4488-84ff-62b5ec4cefcc",
   "metadata": {},
   "outputs": [],
   "source": []
  }
 ],
 "metadata": {
  "kernelspec": {
   "display_name": "Python 3 (ipykernel)",
   "language": "python",
   "name": "python3"
  },
  "language_info": {
   "codemirror_mode": {
    "name": "ipython",
    "version": 3
   },
   "file_extension": ".py",
   "mimetype": "text/x-python",
   "name": "python",
   "nbconvert_exporter": "python",
   "pygments_lexer": "ipython3",
   "version": "3.12.7"
  }
 },
 "nbformat": 4,
 "nbformat_minor": 5
}
